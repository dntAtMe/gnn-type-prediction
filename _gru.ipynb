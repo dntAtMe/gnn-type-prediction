{
 "cells": [
  {
   "cell_type": "code",
   "execution_count": 1,
   "id": "initial_id",
   "metadata": {
    "collapsed": true,
    "ExecuteTime": {
     "end_time": "2024-01-08T01:34:22.132676Z",
     "start_time": "2024-01-08T01:34:22.122675Z"
    }
   },
   "outputs": [
    {
     "name": "stdout",
     "output_type": "stream",
     "text": [
      "h_next: [ 0.04156905 -0.06337281  0.0766981  -0.34031248  0.7415777 ]\n",
      "h_next: [ 0.27289368 -0.85467567  0.49969283  0.13101114  0.09204578]\n",
      "h_next: [ 0.27574468 -0.85553479  0.79735377 -0.13234336  0.947264  ]\n",
      "h_next: [ 0.28138932 -0.853681    0.64133945 -0.64399339  0.98120636]\n",
      "h_next: [ 0.2876113  -0.77654789  0.90739334 -0.30594302  0.84444034]\n",
      "h_next: [ 0.3086645  -0.41402165  0.96442385 -0.1886135   0.9515056 ]\n",
      "Final hidden state: [ 0.3086645  -0.41402165  0.96442385 -0.1886135   0.9515056 ]\n"
     ]
    }
   ],
   "source": [
    "import numpy as np\n",
    "\n",
    "def sigmoid(x):\n",
    "    return 1 / (1 + np.exp(-x))\n",
    "\n",
    "def tanh(x):\n",
    "    return np.tanh(x)\n",
    "\n",
    "class GRU:\n",
    "    def __init__(self, input_dim, hidden_dim):\n",
    "        self.input_dim = input_dim\n",
    "        self.hidden_dim = hidden_dim\n",
    "\n",
    "        self.Wz = np.random.randn(hidden_dim, hidden_dim + input_dim)\n",
    "        self.Wr = np.random.randn(hidden_dim, hidden_dim + input_dim)\n",
    "        self.Wh = np.random.randn(hidden_dim, hidden_dim + input_dim)\n",
    "        \n",
    "    def _update_gate(self, wz, xh):\n",
    "        return sigmoid(np.dot(wz, xh))\n",
    "    \n",
    "    def _reset_gate(self, wr, xh):\n",
    "        return sigmoid(np.dot(wr, xh))\n",
    "    \n",
    "\n",
    "    def step(self, x_t, h_prev):\n",
    "        xh = np.concatenate((h_prev, x_t))\n",
    "        \n",
    "        z = self._update_gate(self.Wz, xh)\n",
    "\n",
    "        r = self._reset_gate(self.Wr, xh)\n",
    "\n",
    "        xh_prime = np.concatenate((r * h_prev, x_t))\n",
    "        h_tilde = tanh(np.dot(self.Wh, xh_prime))\n",
    "\n",
    "        # Final hidden state\n",
    "        h_next = (1 - z) * h_tilde + z * h_prev\n",
    "\n",
    "        print(\"h_next:\", h_next)\n",
    "        return h_next\n",
    "\n",
    "input_dim = 3\n",
    "hidden_dim = 5\n",
    "\n",
    "gru = GRU(input_dim, hidden_dim)\n",
    "\n",
    "sequence = [np.random.randn(input_dim) for _ in range(6)]\n",
    "\n",
    "h = np.zeros(hidden_dim)\n",
    "for x_t in sequence:\n",
    "    h = gru.step(x_t, h)\n",
    "\n",
    "print(\"Final hidden state:\", h)"
   ]
  }
 ],
 "metadata": {
  "kernelspec": {
   "display_name": "Python 3",
   "language": "python",
   "name": "python3"
  },
  "language_info": {
   "codemirror_mode": {
    "name": "ipython",
    "version": 2
   },
   "file_extension": ".py",
   "mimetype": "text/x-python",
   "name": "python",
   "nbconvert_exporter": "python",
   "pygments_lexer": "ipython2",
   "version": "2.7.6"
  }
 },
 "nbformat": 4,
 "nbformat_minor": 5
}
